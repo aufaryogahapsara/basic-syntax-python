{
  "cells": [
    {
      "cell_type": "markdown",
      "metadata": {
        "id": "view-in-github",
        "colab_type": "text"
      },
      "source": [
        "<a href=\"https://colab.research.google.com/github/aufaryogahapsara/basic-syntax-python/blob/main/basic_syntax_value.ipynb\" target=\"_parent\"><img src=\"https://colab.research.google.com/assets/colab-badge.svg\" alt=\"Open In Colab\"/></a>"
      ]
    },
    {
      "cell_type": "markdown",
      "id": "39bf7b14",
      "metadata": {
        "id": "39bf7b14"
      },
      "source": [
        "# Buatlah sebuah program yang:\n",
        "\n",
        "   1. Meminta input dari pengguna:\n",
        "\n",
        "       - Nama mahasiswa\n",
        "\n",
        "       - NIM mahasiswa\n",
        "\n",
        "       - Nilai ujian (dalam angka, 0–100)\n",
        "\n",
        "   2. Cek dan tampilkan tipe data dari setiap input.\n",
        "\n",
        "   3. Gunakan if-elif-else untuk menentukan kategori nilai, dengan kriteria sebagai berikut:\n",
        "   \n",
        "```\n",
        "Nilai | Kategori\n",
        "85 - 100 | A (Sangat Baik)\n",
        "75 - 84 | B (Baik)\n",
        "60 - 74 | C (Cukup)\n",
        "40 - 59 | D (Kurang)\n",
        "< 40 | E (Sangat Kurang)\n",
        "```\n",
        "\n",
        "```\n",
        "==== Ekspektasi Output Jawaban : =====\n",
        "Masukkan nama mahasiswa: Sarah\n",
        "Masukkan NIM: 12345678\n",
        "Masukkan nilai ujian (0-100): 81\n",
        "\n",
        "Nama: Sarah (type: <class 'str'>)\n",
        "NIM: 12345678 (type: <class 'str'>)\n",
        "Nilai: 81 (type: <class 'int'>)\n",
        "\n",
        "Hasil Evaluasi:\n",
        "Mahasiswa: Sarah (NIM: 12345678)\n",
        "Nilai Ujian: 81\n",
        "Kategori Nilai: B (Baik)\n",
        "```"
      ]
    },
    {
      "cell_type": "code",
      "execution_count": null,
      "id": "e2ab644c",
      "metadata": {
        "colab": {
          "base_uri": "https://localhost:8080/"
        },
        "id": "e2ab644c",
        "outputId": "6506715f-33a2-44e1-96ca-345effac7815"
      },
      "outputs": [
        {
          "output_type": "stream",
          "name": "stdout",
          "text": [
            "==== Ekspektasi Output Jawaban : =====\n",
            "Masukkan nama mahasiswa: Aufar Yoga Hapsara\n",
            "Masukkan NIM: 24050120140165\n",
            "Masukkan nilai ujian (0-100): 84.9\n",
            " \n",
            "Nama: Aufar Yoga Hapsara (type : <class 'str'>)\n",
            "NIM: 24050120140165 (type : <class 'str'>)\n",
            "Nilai: 84.9 (type : <class 'float'>)\n",
            " \n",
            "Hasil Evaluasi:\n",
            "Mahasiswa: Aufar Yoga Hapsara (NIM: 24050120140165)\n",
            "Nilai Ujian: 84.9\n",
            "Kategori Nilai: B (Baik)\n"
          ]
        }
      ],
      "source": [
        "nama = input(\"Masukkan nama mahasiswa: \")\n",
        "nim = input(\"Masukkan NIM: \")\n",
        "nilai = float(input(\"Masukkan nilai ujian (0-100): \"))\n",
        "\n",
        "print(\" \")\n",
        "print(f\"Nama: {nama} (type : {type(nama)})\")\n",
        "print(f\"NIM: {nim} (type : {type(nim)})\")\n",
        "print(f\"Nilai: {nilai} (type : {type(nilai)})\")\n",
        "\n",
        "print(\" \")\n",
        "print(\"Hasil Evaluasi:\")\n",
        "print(f\"Mahasiswa: {nama} (NIM: {nim})\")\n",
        "print(\"Nilai Ujian:\",nilai)\n",
        "\n",
        "if nilai >= 85 and nilai <= 100:\n",
        "  print(\"Kategori Nilai: A (Sangat Baik)\")\n",
        "elif nilai >= 75:\n",
        "  print(\"Kategori Nilai: B (Baik)\")\n",
        "elif nilai >= 60:\n",
        "  print(\"Kategori Nilai: C (Cukup)\")\n",
        "elif nilai >= 40:\n",
        "  print(\"Kategori Nilai: D (Kurang)\")\n",
        "elif nilai >= 0:\n",
        "  print(\"Kategori Nilai: E (Sangat Kurang)\")\n",
        "else :\n",
        "  print(\"Kategori Nilai: Tidak ditemukan\")"
      ]
    }
  ],
  "metadata": {
    "colab": {
      "provenance": [],
      "include_colab_link": true
    },
    "kernelspec": {
      "display_name": "Python 3 (ipykernel)",
      "language": "python",
      "name": "python3"
    },
    "language_info": {
      "codemirror_mode": {
        "name": "ipython",
        "version": 3
      },
      "file_extension": ".py",
      "mimetype": "text/x-python",
      "name": "python",
      "nbconvert_exporter": "python",
      "pygments_lexer": "ipython3",
      "version": "3.11.4"
    }
  },
  "nbformat": 4,
  "nbformat_minor": 5
}